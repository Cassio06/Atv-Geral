{
  "nbformat": 4,
  "nbformat_minor": 0,
  "metadata": {
    "colab": {
      "provenance": []
    },
    "kernelspec": {
      "name": "python3",
      "display_name": "Python 3"
    },
    "language_info": {
      "name": "python"
    }
  },
  "cells": [
    {
      "cell_type": "code",
      "execution_count": 13,
      "metadata": {
        "id": "KofvdHKOm_R-",
        "colab": {
          "base_uri": "https://localhost:8080/"
        },
        "outputId": "efc2379d-be3b-4c67-a098-774057a19645"
      },
      "outputs": [
        {
          "output_type": "stream",
          "name": "stdout",
          "text": [
            "Diga um numero de 10 a 20 11\n",
            "True\n"
          ]
        }
      ],
      "source": [
        "#Questão 1\n",
        "v1 = int(input('Diga um numero de 10 a 20 '))\n",
        "if 10 <= v1 <= 20:\n",
        "  print(True)\n",
        "else:\n",
        "  print(False)"
      ]
    },
    {
      "cell_type": "code",
      "source": [
        "#Questão 2\n",
        "idade = int(input('Qual sua idade? '))\n",
        "perm = input('Você tem permissão dos seus pais? (Sim/Não) ')\n",
        "if idade >= 18:\n",
        "    idade = True\n",
        "else:\n",
        "   idade = False\n",
        "if perm.upper() == 'Sim':\n",
        "    permissao_pais = True\n",
        "else:\n",
        "    permissao_pais = False\n",
        "if idade and permissao_pais:\n",
        "    print('Pode entrar')\n",
        "else:\n",
        "    print('Vai embora!')"
      ],
      "metadata": {
        "colab": {
          "base_uri": "https://localhost:8080/"
        },
        "id": "8qEe9ZKjokqS",
        "outputId": "f2170c4f-45fb-4213-8a89-cfde0a3424e4"
      },
      "execution_count": 12,
      "outputs": [
        {
          "output_type": "stream",
          "name": "stdout",
          "text": [
            "Qual sua idade? 15\n",
            "Você tem permissão dos seus pais? (Yes/Not) SIM\n",
            "Vai embora!\n"
          ]
        }
      ]
    },
    {
      "cell_type": "code",
      "source": [
        "#Questão 3\n",
        "Numero = int(input('Diga um Numero Positivo e Impar '))\n",
        "if Numero >= 1:\n",
        "  Numero_Positivo = True\n",
        "else:\n",
        "  Numero_Positivo = False\n",
        "if Numero % 2 == 1:\n",
        "  Numero_Impar = True\n",
        "else:\n",
        "  Numero_Impar = False\n",
        "if Numero_Positivo and Numero_Impar:\n",
        "  print('O numero é Impar e Positivo')\n",
        "else:\n",
        "  print('O numero não cumpre com os requisitos')"
      ],
      "metadata": {
        "colab": {
          "base_uri": "https://localhost:8080/"
        },
        "id": "PkMCAh8WBH-y",
        "outputId": "41f3cacf-305c-4e68-be42-56d94d087e37"
      },
      "execution_count": 14,
      "outputs": [
        {
          "output_type": "stream",
          "name": "stdout",
          "text": [
            "Diga um Numero Positivo e Impar 11\n",
            "O numero é Impar e Positivo\n"
          ]
        }
      ]
    },
    {
      "cell_type": "code",
      "source": [
        "#Questão 4\n",
        "Numero1 = int(input('Digite um lado de um triangulo '))\n",
        "Numero2 = int(input('Digite Outro '))\n",
        "Numero3 = int(input('Digite mais um '))\n",
        "if Numero1 == Numero2 == Numero3:\n",
        "  print('Equilatero')\n",
        "elif Numero1 == Numero2 or Numero1 == Numero3 or Numero2 == Numero3:\n",
        "    print('Isosceles')\n",
        "else:\n",
        "      if Numero1 != Numero2 != Numero3:\n",
        "        print('Escaleno')"
      ],
      "metadata": {
        "colab": {
          "base_uri": "https://localhost:8080/"
        },
        "id": "h9WDBaHFCea_",
        "outputId": "00822a9e-f70a-4a2c-809f-6368cfef6216"
      },
      "execution_count": 28,
      "outputs": [
        {
          "output_type": "stream",
          "name": "stdout",
          "text": [
            "Digite um lado de um triangulo 3\n",
            "Digite Outro 4\n",
            "Digite mais um 3\n",
            "Isosceles\n"
          ]
        }
      ]
    },
    {
      "cell_type": "code",
      "source": [
        "#Questão 5\n",
        "Placa = int(input('Dite o Ultimo Digito da Placa do seu Carro: '))\n",
        "if Placa == 1 or Placa == 2:\n",
        "  print('Seu Carro pode circular apenas na segunda-feira')\n",
        "elif Placa == 3 or Placa == 4:\n",
        "  print('Seu Carro pode circular apenas na terça-feira')\n",
        "elif Placa == 5 or Placa == 6:\n",
        "  print('Seu Carro pode circular apenas na quarta-feira')\n",
        "elif Placa == 7 or Placa == 8:\n",
        "  print('Seu Carro pode circular apenas na quinta-feira')\n",
        "elif Placa == 9 or Placa == 0:\n",
        "  print('Seu carro pode circular apenas na sexta-feira')\n",
        "else:\n",
        "  print('Numero Invalido')"
      ],
      "metadata": {
        "colab": {
          "base_uri": "https://localhost:8080/"
        },
        "id": "RRpc_KU2EoCq",
        "outputId": "22354527-8a71-4d67-b3c8-ab651a3a18d3"
      },
      "execution_count": 15,
      "outputs": [
        {
          "output_type": "stream",
          "name": "stdout",
          "text": [
            "Dite o Ultimo Digito da Placa do seu Carro: 0\n",
            "Seu carro pode circular apenas na sexta-feira\n"
          ]
        }
      ]
    },
    {
      "cell_type": "code",
      "source": [],
      "metadata": {
        "id": "KB4klAb3FKCL"
      },
      "execution_count": null,
      "outputs": []
    }
  ]
}